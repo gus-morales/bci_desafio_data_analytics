{
 "cells": [
  {
   "cell_type": "code",
   "execution_count": 1,
   "metadata": {},
   "outputs": [],
   "source": [
    "import numpy as np  # arrays and matrices\n",
    "import pandas as pd  # data manipulation and analysis\n",
    "import matplotlib.pyplot as plt  # plotting library\n",
    "import seaborn as sns  # matplotlib wrapper\n",
    "from scipy import stats  # statistical tools\n",
    "from sklearn.cluster import AgglomerativeClustering  # hierarchical clustering\n",
    "from sklearn.neighbors import kneighbors_graph  # for the KNN sparse matrix\n",
    "import missingno as msno  # missing data visualization"
   ]
  },
  {
   "cell_type": "markdown",
   "metadata": {},
   "source": [
    "### **(1)** Enfoque desde el análisis estadístico: testeo de hipótesis y visualización."
   ]
  },
  {
   "cell_type": "code",
   "execution_count": 2,
   "metadata": {},
   "outputs": [],
   "source": [
    "# we load the data set\n",
    "filename = '../data/worldcitiespop.csv'"
   ]
  },
  {
   "cell_type": "code",
   "execution_count": 3,
   "metadata": {},
   "outputs": [],
   "source": [
    "# we read the CSV file into a dataframe object with just the columns we need\n",
    "df = pd.read_csv(filename, sep=';', usecols=(0,1,5,6))"
   ]
  },
  {
   "cell_type": "code",
   "execution_count": 4,
   "metadata": {},
   "outputs": [
    {
     "name": "stdout",
     "output_type": "stream",
     "text": [
      "<class 'pandas.core.frame.DataFrame'>\n",
      "RangeIndex: 3173647 entries, 0 to 3173646\n",
      "Data columns (total 4 columns):\n",
      " #   Column     Dtype  \n",
      "---  ------     -----  \n",
      " 0   Country    object \n",
      " 1   City       object \n",
      " 2   Latitude   float64\n",
      " 3   Longitude  float64\n",
      "dtypes: float64(2), object(2)\n",
      "memory usage: 96.9+ MB\n"
     ]
    }
   ],
   "source": [
    "# check df\n",
    "df.info()"
   ]
  },
  {
   "cell_type": "code",
   "execution_count": 5,
   "metadata": {},
   "outputs": [
    {
     "data": {
      "text/plain": [
       "Country      0\n",
       "City         6\n",
       "Latitude     0\n",
       "Longitude    0\n",
       "dtype: int64"
      ]
     },
     "execution_count": 5,
     "metadata": {},
     "output_type": "execute_result"
    }
   ],
   "source": [
    "# NaN distribution columnwise\n",
    "df.isnull().sum(axis=0)"
   ]
  },
  {
   "cell_type": "code",
   "execution_count": null,
   "metadata": {},
   "outputs": [],
   "source": [
    "# NaN distribution as a whole\n",
    "msno.matrix(df)\n",
    "plt.tight_layout()"
   ]
  },
  {
   "cell_type": "code",
   "execution_count": null,
   "metadata": {},
   "outputs": [],
   "source": [
    "df_us = df[df['Country']=='us']  # US only locations\n",
    "df_gb = df[df['Country']=='gb']  # UK only locations\n",
    "del df  # for memory reasons"
   ]
  },
  {
   "cell_type": "code",
   "execution_count": null,
   "metadata": {},
   "outputs": [],
   "source": [
    "# Longitude restricted to a more sensible range\n",
    "df_us_long = df_us[df_us['Longitude'].between(-130,-60)]"
   ]
  },
  {
   "cell_type": "code",
   "execution_count": null,
   "metadata": {},
   "outputs": [],
   "source": [
    "# plot histogram of US cities within the previous longitude range\n",
    "sns.distplot(df_us_long['Longitude'], kde=False)  # not normed!\n",
    "plt.title('USA Cities/Towns')\n",
    "plt.tight_layout()"
   ]
  },
  {
   "cell_type": "code",
   "execution_count": null,
   "metadata": {},
   "outputs": [],
   "source": [
    "# now we define the matching city names\n",
    "matches = list(set(df_gb['City']) & set(df_us['City']))  # highly optimized"
   ]
  },
  {
   "cell_type": "code",
   "execution_count": null,
   "metadata": {},
   "outputs": [],
   "source": [
    "df_us.reset_index(inplace=True)  # df cleaning"
   ]
  },
  {
   "cell_type": "code",
   "execution_count": null,
   "metadata": {},
   "outputs": [],
   "source": [
    "df_us.drop(columns=['index'])  # df cleaning"
   ]
  },
  {
   "cell_type": "code",
   "execution_count": null,
   "metadata": {},
   "outputs": [],
   "source": [
    "# save the indices of the non matching locations to use them later\n",
    "indices = []\n",
    "for i,city in enumerate(df_us['City']):\n",
    "    if city not in matches:\n",
    "        indices.append(i)"
   ]
  },
  {
   "cell_type": "code",
   "execution_count": null,
   "metadata": {},
   "outputs": [],
   "source": [
    "# we clean the df, leaving only the city names present in both countries\n",
    "df_us_gb = df_us.drop(index=indices).reset_index().drop(columns=['index', 'level_0', 'Country'])"
   ]
  },
  {
   "cell_type": "code",
   "execution_count": null,
   "metadata": {},
   "outputs": [],
   "source": [
    "df_us_gb"
   ]
  },
  {
   "cell_type": "code",
   "execution_count": null,
   "metadata": {},
   "outputs": [],
   "source": [
    "# Longitude restricted to a more sensible range\n",
    "df_us_gb_long = df_us_gb[df_us_gb['Longitude'].between(-130,-60)]"
   ]
  },
  {
   "cell_type": "code",
   "execution_count": null,
   "metadata": {},
   "outputs": [],
   "source": [
    "# now we add the US & GB histogram; but do note that BOTH are now normed!\n",
    "sns.distplot(df_us_long['Longitude'], kde=True, label='US only')\n",
    "sns.distplot(df_us_gb_long['Longitude'], kde=True, label='US & GB')\n",
    "plt.axvline(-95, color='red', label='USA mean Longitude')\n",
    "plt.legend()\n",
    "plt.title('USA Cities/Towns with UK names')\n",
    "plt.tight_layout()\n",
    "plt.savefig('fig1.png', dpi=200)"
   ]
  },
  {
   "cell_type": "code",
   "execution_count": null,
   "metadata": {},
   "outputs": [],
   "source": [
    "# normality test 1\n",
    "from scipy.stats import anderson\n",
    "data = df_us_gb_long['Longitude']\n",
    "result = anderson(data)\n",
    "print('stat=%.3f' % (result.statistic))\n",
    "for i in range(len(result.critical_values)):\n",
    "    sl, cv = result.significance_level[i], result.critical_values[i]\n",
    "    if result.statistic < cv:\n",
    "        print('Probably Gaussian at the %.1f%% level' % (sl))\n",
    "    else:\n",
    "        print('Probably not Gaussian at the %.1f%% level' % (sl))"
   ]
  },
  {
   "cell_type": "code",
   "execution_count": null,
   "metadata": {},
   "outputs": [],
   "source": [
    "# normality test 2\n",
    "from scipy.stats import shapiro\n",
    "stat, p = shapiro(data)\n",
    "print('stat=%.3f, p=%f' % (stat, p))\n",
    "if p > 0.05:\n",
    "    print('Probably Gaussian')\n",
    "else:\n",
    "    print('Probably not Gaussian')"
   ]
  },
  {
   "cell_type": "code",
   "execution_count": null,
   "metadata": {},
   "outputs": [],
   "source": [
    "# normality test 3\n",
    "from scipy.stats import normaltest\n",
    "data = df_us_long['Longitude']\n",
    "stat, p = normaltest(data)\n",
    "print('stat=%.3f, p=%.3f' % (stat, p))\n",
    "if p > 0.05:\n",
    "    print('Probably Gaussian')\n",
    "else:\n",
    "    print('Probably not Gaussian')"
   ]
  },
  {
   "cell_type": "markdown",
   "metadata": {},
   "source": [
    "### **(2)** Enfoque desde el aprendizaje de máquina: _clustering_"
   ]
  },
  {
   "cell_type": "code",
   "execution_count": null,
   "metadata": {},
   "outputs": [],
   "source": [
    "df_us_gb"
   ]
  },
  {
   "cell_type": "code",
   "execution_count": null,
   "metadata": {},
   "outputs": [],
   "source": [
    "# plot of the US & GB cities, we can already infer asymmetry in terms of density\n",
    "plt.figure(dpi=100)\n",
    "X, Y ='Longitude', 'Latitude'\n",
    "ALPHA = 0.3\n",
    "MARKER = '.'\n",
    "sns.scatterplot(x=X, y=Y, data=df_us_gb, color='black', alpha=ALPHA, marker=MARKER)\n",
    "plt.axvline(-95, color='red', label='USA mean Longitude')\n",
    "plt.xlim(-130,-65)\n",
    "plt.ylim(23,50)\n",
    "plt.legend()\n",
    "plt.tight_layout()"
   ]
  },
  {
   "cell_type": "code",
   "execution_count": null,
   "metadata": {},
   "outputs": [],
   "source": [
    "# kmeans clustering estimation\n",
    "from sklearn.cluster import KMeans\n",
    "\n",
    "X = [list(a) for a in zip(df_us_gb['Longitude'].values,df_us_gb['Latitude'].values)]\n",
    "X = np.array(X)"
   ]
  },
  {
   "cell_type": "code",
   "execution_count": null,
   "metadata": {},
   "outputs": [],
   "source": [
    "# here we force 2 clusters to appear\n",
    "km = KMeans(\n",
    "    n_clusters=2, init='random',\n",
    "    n_init=10, max_iter=300, \n",
    "    tol=1e-04, random_state=0\n",
    ")\n",
    "y_km = km.fit_predict(X)"
   ]
  },
  {
   "cell_type": "code",
   "execution_count": null,
   "metadata": {},
   "outputs": [],
   "source": [
    "# plotting kmeans results with centroids\n",
    "plt.figure(dpi=100)\n",
    "plt.scatter(\n",
    "    X[y_km == 0, 0], X[y_km == 0, 1],\n",
    "    s=10, c='dodgerblue', alpha=ALPHA,\n",
    "    marker='.',\n",
    "    label='cluster 1'\n",
    ")\n",
    "\n",
    "plt.scatter(\n",
    "    X[y_km == 1, 0], X[y_km == 1, 1],\n",
    "    s=10, c='tomato', alpha=ALPHA,\n",
    "    marker='.',\n",
    "    label='cluster 2'\n",
    ")\n",
    "\n",
    "# plot the centroids\n",
    "plt.scatter(\n",
    "    km.cluster_centers_[:, 0], km.cluster_centers_[:, 1],\n",
    "    s=250, marker='*',\n",
    "    c='black', edgecolor='black',\n",
    "    label='centroids'\n",
    ")\n",
    "plt.legend(scatterpoints=1)\n",
    "plt.xlim(-130,-65)\n",
    "plt.ylim(23,50)\n",
    "#plt.axvline(-95, color='red')\n",
    "plt.tight_layout()\n",
    "plt.savefig('fig2.png', dpi=200)"
   ]
  },
  {
   "cell_type": "code",
   "execution_count": null,
   "metadata": {},
   "outputs": [],
   "source": [
    "# hierarchical clustering with knn_graph connectivity matrix, and n_clusters=30\n",
    "knn_graph = kneighbors_graph(X, 30, include_self=False)\n",
    "\n",
    "plt.figure(dpi=100)\n",
    "plt.subplot(1, 1, 1)\n",
    "model = AgglomerativeClustering(linkage='average', connectivity=knn_graph, n_clusters=30)\n",
    "model.fit(X)\n",
    "plt.scatter(X[:, 0], X[:, 1], c=model.labels_, cmap=plt.cm.nipy_spectral,\n",
    "            marker='.', s=50, alpha=0.3)\n",
    "plt.xlim(-130,-65)\n",
    "plt.ylim(23,50)\n",
    "plt.tight_layout()\n",
    "plt.savefig('fig3.png', dpi=200)"
   ]
  },
  {
   "cell_type": "code",
   "execution_count": null,
   "metadata": {},
   "outputs": [],
   "source": [
    "# how many locations are present in the purple cluster?\n",
    "from collections import Counter, defaultdict\n",
    "print(Counter(model.labels_)[2])"
   ]
  },
  {
   "cell_type": "code",
   "execution_count": null,
   "metadata": {},
   "outputs": [],
   "source": []
  }
 ],
 "metadata": {
  "kernelspec": {
   "display_name": "Python 3",
   "language": "python",
   "name": "python3"
  },
  "language_info": {
   "codemirror_mode": {
    "name": "ipython",
    "version": 3
   },
   "file_extension": ".py",
   "mimetype": "text/x-python",
   "name": "python",
   "nbconvert_exporter": "python",
   "pygments_lexer": "ipython3",
   "version": "3.6.9"
  }
 },
 "nbformat": 4,
 "nbformat_minor": 4
}
